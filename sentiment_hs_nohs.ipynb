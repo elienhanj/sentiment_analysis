{
  "nbformat": 4,
  "nbformat_minor": 0,
  "metadata": {
    "colab": {
      "name": "Copy of Sentiment HS NO HS.ipynb",
      "provenance": [],
      "collapsed_sections": [],
      "authorship_tag": "ABX9TyOKa+fehEcdjcu2iDogNgUU",
      "include_colab_link": true
    },
    "kernelspec": {
      "name": "python3",
      "display_name": "Python 3"
    }
  },
  "cells": [
    {
      "cell_type": "markdown",
      "metadata": {
        "id": "view-in-github",
        "colab_type": "text"
      },
      "source": [
        "<a href=\"https://colab.research.google.com/github/elienhanj/sentiment_analysis/blob/main/sentiment_hs_nohs.ipynb\" target=\"_parent\"><img src=\"https://colab.research.google.com/assets/colab-badge.svg\" alt=\"Open In Colab\"/></a>"
      ]
    },
    {
      "cell_type": "markdown",
      "metadata": {
        "id": "aMOxws_PQrdN"
      },
      "source": [
        "# **Analisis Sentimen Tweet - Text Mining**"
      ]
    },
    {
      "cell_type": "markdown",
      "metadata": {
        "id": "C81a1idaWv7_"
      },
      "source": [
        "Elien Hanjani Pramitha - Telkom DTI 2020 - DS0108."
      ]
    },
    {
      "cell_type": "markdown",
      "metadata": {
        "id": "LZY0ke7tQ5mh"
      },
      "source": [
        "*   Model analisis yang akan dibangun menggunakan data tweet dengan 2 kolom yaitu kolom tweet dan kolom label kelas hatespeech dan non hatespeech. \n",
        "*   Preprocessing data dilakukan dengan melakukan penyeimbangan data karena dataset awal merupakan imbalanced data, dimana jumlah data berlabel hatespeech dan non hatespeech tidak seimbang. Teknik balanced data yang dilakukan menggunakan metode undersampling (memotong jumlah kelas yang berlimpah sehingga jumlahnya menjadi sama dengan kelas lainnya). Kenapa hal ini harus dilakukan? karena pada dasarnya data yang imbalanced merupakan masalah umum dalam machine learning. Jika dipaksakan melakukan pemodelan, maka model akan sia-sia walaupun memiliki akurasi yang tinggi.\n",
        "*   Dalam tahap preprocessing text dilakukan untuk menghapus mentions, hasgtag, retweets, urls, case folding, tokenization, stopword dan stemming.\n",
        "*   Vektorisasi dilakukan menggunakan TF-IDF.\n",
        "*   Pemodelan menggunakan algoritma multinomial naive bayes classifier. Algoritma ini sangat baik untuk memproses hasil vektor dari TF-IDF, tetapi tidak bisa mengatasi data negatif. Maka dilakukan scaling agar data vektor hasil TF-IDF tidak ada yang bernilai negatif.\n",
        "*   Evaluasi model dilakukan dengan confussion matrix sehingga juga dapat mengetahui nilai TP, FP, TN, FN.\n",
        "\n",
        "\n",
        "\n"
      ]
    },
    {
      "cell_type": "markdown",
      "metadata": {
        "id": "X8UcH3WLTvTk"
      },
      "source": [
        "## **Import Data**"
      ]
    },
    {
      "cell_type": "code",
      "metadata": {
        "colab": {
          "base_uri": "https://localhost:8080/",
          "height": 197
        },
        "id": "s21keXuatdtz",
        "outputId": "bb391e3e-ae02-4760-d000-860f8ebea9d8"
      },
      "source": [
        "import pandas as pd\n",
        "\n",
        "df = pd.read_csv('https://raw.githubusercontent.com/elienhanj/sentiment_analysis/main/dataready.csv' , sep=\",\")\n",
        "df.head()"
      ],
      "execution_count": 1,
      "outputs": [
        {
          "output_type": "execute_result",
          "data": {
            "text/html": [
              "<div>\n",
              "<style scoped>\n",
              "    .dataframe tbody tr th:only-of-type {\n",
              "        vertical-align: middle;\n",
              "    }\n",
              "\n",
              "    .dataframe tbody tr th {\n",
              "        vertical-align: top;\n",
              "    }\n",
              "\n",
              "    .dataframe thead th {\n",
              "        text-align: right;\n",
              "    }\n",
              "</style>\n",
              "<table border=\"1\" class=\"dataframe\">\n",
              "  <thead>\n",
              "    <tr style=\"text-align: right;\">\n",
              "      <th></th>\n",
              "      <th>Tweet</th>\n",
              "      <th>Label</th>\n",
              "    </tr>\n",
              "  </thead>\n",
              "  <tbody>\n",
              "    <tr>\n",
              "      <th>0</th>\n",
              "      <td>RT @spardaxyz: Fadli Zon Minta Mendagri Segera...</td>\n",
              "      <td>Non_HS</td>\n",
              "    </tr>\n",
              "    <tr>\n",
              "      <th>1</th>\n",
              "      <td>RT @baguscondromowo: Mereka terus melukai aksi...</td>\n",
              "      <td>Non_HS</td>\n",
              "    </tr>\n",
              "    <tr>\n",
              "      <th>2</th>\n",
              "      <td>Sylvi: bagaimana gurbernur melakukan kekerasan...</td>\n",
              "      <td>Non_HS</td>\n",
              "    </tr>\n",
              "    <tr>\n",
              "      <th>3</th>\n",
              "      <td>Ahmad Dhani Tak Puas Debat Pilkada, Masalah Ja...</td>\n",
              "      <td>Non_HS</td>\n",
              "    </tr>\n",
              "    <tr>\n",
              "      <th>4</th>\n",
              "      <td>RT @lisdaulay28: Waspada KTP palsu.....kawal P...</td>\n",
              "      <td>Non_HS</td>\n",
              "    </tr>\n",
              "  </tbody>\n",
              "</table>\n",
              "</div>"
            ],
            "text/plain": [
              "                                               Tweet   Label\n",
              "0  RT @spardaxyz: Fadli Zon Minta Mendagri Segera...  Non_HS\n",
              "1  RT @baguscondromowo: Mereka terus melukai aksi...  Non_HS\n",
              "2  Sylvi: bagaimana gurbernur melakukan kekerasan...  Non_HS\n",
              "3  Ahmad Dhani Tak Puas Debat Pilkada, Masalah Ja...  Non_HS\n",
              "4  RT @lisdaulay28: Waspada KTP palsu.....kawal P...  Non_HS"
            ]
          },
          "metadata": {
            "tags": []
          },
          "execution_count": 1
        }
      ]
    },
    {
      "cell_type": "markdown",
      "metadata": {
        "id": "AGSa4DNEUFKw"
      },
      "source": [
        "## **Preprocessing Data**"
      ]
    },
    {
      "cell_type": "code",
      "metadata": {
        "colab": {
          "base_uri": "https://localhost:8080/"
        },
        "id": "Byo8P81hzakD",
        "outputId": "70bef717-aabd-4eb8-b942-271f07cd7c0b"
      },
      "source": [
        "print(df.isnull().values.any())"
      ],
      "execution_count": 2,
      "outputs": [
        {
          "output_type": "stream",
          "text": [
            "True\n"
          ],
          "name": "stdout"
        }
      ]
    },
    {
      "cell_type": "markdown",
      "metadata": {
        "id": "DErvefVfUIc2"
      },
      "source": [
        "Data ada yang kosong"
      ]
    },
    {
      "cell_type": "code",
      "metadata": {
        "colab": {
          "base_uri": "https://localhost:8080/"
        },
        "id": "OAPutnSMFGdl",
        "outputId": "4bdb7777-05cd-4175-d0ac-b55197f9b5e7"
      },
      "source": [
        "#menghapus data yang kosong pada row Tweet\n",
        "df = df.dropna(axis=0, subset=['Tweet'])\n",
        "print(df)"
      ],
      "execution_count": 3,
      "outputs": [
        {
          "output_type": "stream",
          "text": [
            "                                                 Tweet   Label\n",
            "0    RT @spardaxyz: Fadli Zon Minta Mendagri Segera...  Non_HS\n",
            "1    RT @baguscondromowo: Mereka terus melukai aksi...  Non_HS\n",
            "2    Sylvi: bagaimana gurbernur melakukan kekerasan...  Non_HS\n",
            "3    Ahmad Dhani Tak Puas Debat Pilkada, Masalah Ja...  Non_HS\n",
            "4    RT @lisdaulay28: Waspada KTP palsu.....kawal P...  Non_HS\n",
            "..                                                 ...     ...\n",
            "708  Muka Si BABi Ahok Tuh Yg Mirip SERBET Lantai.....      HS\n",
            "709  Betul bang hancurkan merka bang, musnahkan chi...      HS\n",
            "710  Sapa Yg bilang Ahok anti korupsi!?, klo grombo...      HS\n",
            "711  Gw juga ngimpi SENTILIN BIJI BABI AHOK, pcetar...      HS\n",
            "712  Mudah2an gw ketemu sama SI BABI IWAN BOPENG DI...      HS\n",
            "\n",
            "[712 rows x 2 columns]\n"
          ],
          "name": "stdout"
        }
      ]
    },
    {
      "cell_type": "code",
      "metadata": {
        "colab": {
          "base_uri": "https://localhost:8080/"
        },
        "id": "BCYQP7sVF3SS",
        "outputId": "7615f522-81c9-4bf7-d821-9439eaacb207"
      },
      "source": [
        "print(df.isnull().values.any())"
      ],
      "execution_count": 4,
      "outputs": [
        {
          "output_type": "stream",
          "text": [
            "False\n"
          ],
          "name": "stdout"
        }
      ]
    },
    {
      "cell_type": "markdown",
      "metadata": {
        "id": "vepmlRj5UVD0"
      },
      "source": [
        "Data kosong berhasil dihapus, sehingga semua data benar-benar terisi baik kolom tweet maupun label."
      ]
    },
    {
      "cell_type": "code",
      "metadata": {
        "colab": {
          "base_uri": "https://localhost:8080/",
          "height": 312
        },
        "id": "DyD4wgvU_s6S",
        "outputId": "2314e920-3857-4c22-ab93-917064bf4705"
      },
      "source": [
        "#cek proporsi label data\n",
        "pd.value_counts(df['Label']).plot.bar()"
      ],
      "execution_count": 5,
      "outputs": [
        {
          "output_type": "execute_result",
          "data": {
            "text/plain": [
              "<matplotlib.axes._subplots.AxesSubplot at 0x7f20f7d55da0>"
            ]
          },
          "metadata": {
            "tags": []
          },
          "execution_count": 5
        },
        {
          "output_type": "display_data",
          "data": {
            "image/png": "[encoded data removed]",
            "text/plain": [
              "<Figure size 432x288 with 1 Axes>"
            ]
          },
          "metadata": {
            "tags": [],
            "needs_background": "light"
          }
        }
      ]
    },
    {
      "cell_type": "markdown",
      "metadata": {
        "id": "c7Hc_Nv0UpWi"
      },
      "source": [
        "Data imbalanced (tidak seimbang antara label HS dan Non HS)"
      ]
    },
    {
      "cell_type": "code",
      "metadata": {
        "colab": {
          "base_uri": "https://localhost:8080/"
        },
        "id": "_3XkjBMPAFSN",
        "outputId": "725cb91d-2c10-454b-8979-838fbd61b8ef"
      },
      "source": [
        "#melihat total data berlabel\n",
        "df['Label'].count()"
      ],
      "execution_count": 6,
      "outputs": [
        {
          "output_type": "execute_result",
          "data": {
            "text/plain": [
              "712"
            ]
          },
          "metadata": {
            "tags": []
          },
          "execution_count": 6
        }
      ]
    },
    {
      "cell_type": "code",
      "metadata": {
        "colab": {
          "base_uri": "https://localhost:8080/"
        },
        "id": "mirehUPTBXZo",
        "outputId": "fe8360d1-55c5-4e9d-c051-84ae8502d611"
      },
      "source": [
        "#menghitung proporsi data label dengan jumlah yg tidak seimbang\n",
        "df[\"Label\"].value_counts() "
      ],
      "execution_count": 7,
      "outputs": [
        {
          "output_type": "execute_result",
          "data": {
            "text/plain": [
              "Non_HS    453\n",
              "HS        259\n",
              "Name: Label, dtype: int64"
            ]
          },
          "metadata": {
            "tags": []
          },
          "execution_count": 7
        }
      ]
    },
    {
      "cell_type": "code",
      "metadata": {
        "id": "X-6fXSFWGSqr"
      },
      "source": [
        "#metode undersampling, menyamakan jumlah kelas HS dan Non HS\n",
        "df_set_NonHS = df.loc[df['Label'] == 'Non_HS']\n",
        "df_set_NonHS = df_set_NonHS.head(259)"
      ],
      "execution_count": 8,
      "outputs": []
    },
    {
      "cell_type": "code",
      "metadata": {
        "id": "Mn69m-JDGm5F"
      },
      "source": [
        "#metode undersampling, menyamakan jumlah kelas HS dan Non HS\n",
        "df_set_HS = df.loc[df['Label'] == 'HS']\n",
        "df_set_HS = df_set_HS.head(259)"
      ],
      "execution_count": 9,
      "outputs": []
    },
    {
      "cell_type": "code",
      "metadata": {
        "id": "R7i4_RwrG8rp"
      },
      "source": [
        "df_fix = df_set_NonHS.append(df_set_HS, ignore_index=True)"
      ],
      "execution_count": 10,
      "outputs": []
    },
    {
      "cell_type": "code",
      "metadata": {
        "colab": {
          "base_uri": "https://localhost:8080/",
          "height": 406
        },
        "id": "xuXM8PJQHJvF",
        "outputId": "739b4fce-1f5a-42db-a378-171c5fe576d2"
      },
      "source": [
        "df_fix"
      ],
      "execution_count": 11,
      "outputs": [
        {
          "output_type": "execute_result",
          "data": {
            "text/html": [
              "<div>\n",
              "<style scoped>\n",
              "    .dataframe tbody tr th:only-of-type {\n",
              "        vertical-align: middle;\n",
              "    }\n",
              "\n",
              "    .dataframe tbody tr th {\n",
              "        vertical-align: top;\n",
              "    }\n",
              "\n",
              "    .dataframe thead th {\n",
              "        text-align: right;\n",
              "    }\n",
              "</style>\n",
              "<table border=\"1\" class=\"dataframe\">\n",
              "  <thead>\n",
              "    <tr style=\"text-align: right;\">\n",
              "      <th></th>\n",
              "      <th>Tweet</th>\n",
              "      <th>Label</th>\n",
              "    </tr>\n",
              "  </thead>\n",
              "  <tbody>\n",
              "    <tr>\n",
              "      <th>0</th>\n",
              "      <td>RT @spardaxyz: Fadli Zon Minta Mendagri Segera...</td>\n",
              "      <td>Non_HS</td>\n",
              "    </tr>\n",
              "    <tr>\n",
              "      <th>1</th>\n",
              "      <td>RT @baguscondromowo: Mereka terus melukai aksi...</td>\n",
              "      <td>Non_HS</td>\n",
              "    </tr>\n",
              "    <tr>\n",
              "      <th>2</th>\n",
              "      <td>Sylvi: bagaimana gurbernur melakukan kekerasan...</td>\n",
              "      <td>Non_HS</td>\n",
              "    </tr>\n",
              "    <tr>\n",
              "      <th>3</th>\n",
              "      <td>Ahmad Dhani Tak Puas Debat Pilkada, Masalah Ja...</td>\n",
              "      <td>Non_HS</td>\n",
              "    </tr>\n",
              "    <tr>\n",
              "      <th>4</th>\n",
              "      <td>RT @lisdaulay28: Waspada KTP palsu.....kawal P...</td>\n",
              "      <td>Non_HS</td>\n",
              "    </tr>\n",
              "    <tr>\n",
              "      <th>...</th>\n",
              "      <td>...</td>\n",
              "      <td>...</td>\n",
              "    </tr>\n",
              "    <tr>\n",
              "      <th>513</th>\n",
              "      <td>Muka Si BABi Ahok Tuh Yg Mirip SERBET Lantai.....</td>\n",
              "      <td>HS</td>\n",
              "    </tr>\n",
              "    <tr>\n",
              "      <th>514</th>\n",
              "      <td>Betul bang hancurkan merka bang, musnahkan chi...</td>\n",
              "      <td>HS</td>\n",
              "    </tr>\n",
              "    <tr>\n",
              "      <th>515</th>\n",
              "      <td>Sapa Yg bilang Ahok anti korupsi!?, klo grombo...</td>\n",
              "      <td>HS</td>\n",
              "    </tr>\n",
              "    <tr>\n",
              "      <th>516</th>\n",
              "      <td>Gw juga ngimpi SENTILIN BIJI BABI AHOK, pcetar...</td>\n",
              "      <td>HS</td>\n",
              "    </tr>\n",
              "    <tr>\n",
              "      <th>517</th>\n",
              "      <td>Mudah2an gw ketemu sama SI BABI IWAN BOPENG DI...</td>\n",
              "      <td>HS</td>\n",
              "    </tr>\n",
              "  </tbody>\n",
              "</table>\n",
              "<p>518 rows × 2 columns</p>\n",
              "</div>"
            ],
            "text/plain": [
              "                                                 Tweet   Label\n",
              "0    RT @spardaxyz: Fadli Zon Minta Mendagri Segera...  Non_HS\n",
              "1    RT @baguscondromowo: Mereka terus melukai aksi...  Non_HS\n",
              "2    Sylvi: bagaimana gurbernur melakukan kekerasan...  Non_HS\n",
              "3    Ahmad Dhani Tak Puas Debat Pilkada, Masalah Ja...  Non_HS\n",
              "4    RT @lisdaulay28: Waspada KTP palsu.....kawal P...  Non_HS\n",
              "..                                                 ...     ...\n",
              "513  Muka Si BABi Ahok Tuh Yg Mirip SERBET Lantai.....      HS\n",
              "514  Betul bang hancurkan merka bang, musnahkan chi...      HS\n",
              "515  Sapa Yg bilang Ahok anti korupsi!?, klo grombo...      HS\n",
              "516  Gw juga ngimpi SENTILIN BIJI BABI AHOK, pcetar...      HS\n",
              "517  Mudah2an gw ketemu sama SI BABI IWAN BOPENG DI...      HS\n",
              "\n",
              "[518 rows x 2 columns]"
            ]
          },
          "metadata": {
            "tags": []
          },
          "execution_count": 11
        }
      ]
    },
    {
      "cell_type": "code",
      "metadata": {
        "colab": {
          "base_uri": "https://localhost:8080/",
          "height": 312
        },
        "id": "xyRskJqFIvUv",
        "outputId": "b97910d3-f4d6-4d5e-da7f-b80913b33d37"
      },
      "source": [
        "pd.value_counts(df_fix['Label']).plot.bar()"
      ],
      "execution_count": 12,
      "outputs": [
        {
          "output_type": "execute_result",
          "data": {
            "text/plain": [
              "<matplotlib.axes._subplots.AxesSubplot at 0x7f20f7c9e860>"
            ]
          },
          "metadata": {
            "tags": []
          },
          "execution_count": 12
        },
        {
          "output_type": "display_data",
          "data": {
            "image/png": "[encoded data removed]",
            "text/plain": [
              "<Figure size 432x288 with 1 Axes>"
            ]
          },
          "metadata": {
            "tags": [],
            "needs_background": "light"
          }
        }
      ]
    },
    {
      "cell_type": "markdown",
      "metadata": {
        "id": "jE-nYYR1VGwW"
      },
      "source": [
        "Data berhasil di resampling sehingga jumlah kelas menjadi seimbang"
      ]
    },
    {
      "cell_type": "markdown",
      "metadata": {
        "id": "4E35rIjWVOmb"
      },
      "source": [
        "## **Preprocessing Text**"
      ]
    },
    {
      "cell_type": "code",
      "metadata": {
        "colab": {
          "base_uri": "https://localhost:8080/"
        },
        "id": "EgWCB3xXL9Ob",
        "outputId": "ffac5e1c-6543-4a6b-8497-a7b0cb34600c"
      },
      "source": [
        "pip install Sastrawi"
      ],
      "execution_count": null,
      "outputs": [
        {
          "output_type": "stream",
          "text": [
            "Collecting Sastrawi\n",
            "\u001b[?25l  Downloading https://files.pythonhosted.org/packages/6f/4b/bab676953da3103003730b8fcdfadbdd20f333d4add10af949dd5c51e6ed/Sastrawi-1.0.1-py2.py3-none-any.whl (209kB)\n",
            "\r\u001b[K     |█▋                              | 10kB 18.1MB/s eta 0:00:01\r\u001b[K     |███▏                            | 20kB 10.8MB/s eta 0:00:01\r\u001b[K     |████▊                           | 30kB 6.5MB/s eta 0:00:01\r\u001b[K     |██████▎                         | 40kB 6.0MB/s eta 0:00:01\r\u001b[K     |███████▉                        | 51kB 4.3MB/s eta 0:00:01\r\u001b[K     |█████████▍                      | 61kB 4.8MB/s eta 0:00:01\r\u001b[K     |███████████                     | 71kB 5.0MB/s eta 0:00:01\r\u001b[K     |████████████▌                   | 81kB 5.1MB/s eta 0:00:01\r\u001b[K     |██████████████                  | 92kB 5.1MB/s eta 0:00:01\r\u001b[K     |███████████████▋                | 102kB 5.2MB/s eta 0:00:01\r\u001b[K     |█████████████████▏              | 112kB 5.2MB/s eta 0:00:01\r\u001b[K     |██████████████████▊             | 122kB 5.2MB/s eta 0:00:01\r\u001b[K     |████████████████████▎           | 133kB 5.2MB/s eta 0:00:01\r\u001b[K     |█████████████████████▉          | 143kB 5.2MB/s eta 0:00:01\r\u001b[K     |███████████████████████▍        | 153kB 5.2MB/s eta 0:00:01\r\u001b[K     |█████████████████████████       | 163kB 5.2MB/s eta 0:00:01\r\u001b[K     |██████████████████████████▋     | 174kB 5.2MB/s eta 0:00:01\r\u001b[K     |████████████████████████████▏   | 184kB 5.2MB/s eta 0:00:01\r\u001b[K     |█████████████████████████████▊  | 194kB 5.2MB/s eta 0:00:01\r\u001b[K     |███████████████████████████████▎| 204kB 5.2MB/s eta 0:00:01\r\u001b[K     |████████████████████████████████| 215kB 5.2MB/s \n",
            "\u001b[?25hInstalling collected packages: Sastrawi\n",
            "Successfully installed Sastrawi-1.0.1\n"
          ],
          "name": "stdout"
        }
      ]
    },
    {
      "cell_type": "code",
      "metadata": {
        "colab": {
          "base_uri": "https://localhost:8080/"
        },
        "id": "hH2i7PPKMPaZ",
        "outputId": "f0c2fbed-eb3a-408b-faa2-76c136b35706"
      },
      "source": [
        "pip install nltk"
      ],
      "execution_count": null,
      "outputs": [
        {
          "output_type": "stream",
          "text": [
            "Requirement already satisfied: nltk in /usr/local/lib/python3.6/dist-packages (3.2.5)\n",
            "Requirement already satisfied: six in /usr/local/lib/python3.6/dist-packages (from nltk) (1.15.0)\n"
          ],
          "name": "stdout"
        }
      ]
    },
    {
      "cell_type": "code",
      "metadata": {
        "colab": {
          "base_uri": "https://localhost:8080/"
        },
        "id": "sXjrrIh3IKbo",
        "outputId": "5928c2f4-c119-4937-bbd3-fee278467ead"
      },
      "source": [
        "# Cleaning the tweets\n",
        "from nltk.tokenize import word_tokenize\n",
        "import nltk\n",
        "nltk.download('stopwords')\n",
        "import re\n",
        "from Sastrawi.Stemmer.StemmerFactory import StemmerFactory\n",
        "def preprocessing(a,b):\n",
        "    data_fix = []\n",
        "    from nltk.corpus import stopwords\n",
        "    for i in range(len(b)):\n",
        "        teks = re.sub('[^a-zA-Z]', ' ', a[i])\n",
        "        # Remove mentions\n",
        "        teks = re.sub(r'@[A-Za-z0-9_]+', '', a[i])\n",
        "        # Remove hashtags\n",
        "        teks = re.sub(r'#', '', a[i])\n",
        "        # Remove retweets:\n",
        "        teks = re.sub(r'RT : ', '', a[i])\n",
        "        # Remove urls\n",
        "        teks = re.sub(r'https?:\\/\\/[A-Za-z0-9\\.\\/]+', '', a[i])\n",
        "        #Case Folding\n",
        "        teks = teks.lower()\n",
        "        #Tokinize\n",
        "        teks = teks.split()\n",
        "        #Stopword + Stemming\n",
        "        stemmer = StemmerFactory().create_stemmer()        \n",
        "        teks = [stemmer.stem(word) for word in teks if not word in set(stopwords.words('indonesian'))]\n",
        "        teks = [word for word in teks if len (word) > 3]\n",
        "        teks = ' '.join(teks)\n",
        "        data_fix.append(teks)\n",
        "    return data_fix"
      ],
      "execution_count": null,
      "outputs": [
        {
          "output_type": "stream",
          "text": [
            "[nltk_data] Downloading package stopwords to /root/nltk_data...\n",
            "[nltk_data]   Unzipping corpora/stopwords.zip.\n"
          ],
          "name": "stdout"
        }
      ]
    },
    {
      "cell_type": "code",
      "metadata": {
        "id": "t_Ijh_twHfiE"
      },
      "source": [
        "panjang_set = df_fix['Label'].tolist()"
      ],
      "execution_count": null,
      "outputs": []
    },
    {
      "cell_type": "code",
      "metadata": {
        "id": "tajjILAsKnsB"
      },
      "source": [
        "data_set = preprocessing(df_fix['Tweet'],panjang_set)"
      ],
      "execution_count": null,
      "outputs": []
    },
    {
      "cell_type": "code",
      "metadata": {
        "colab": {
          "base_uri": "https://localhost:8080/"
        },
        "id": "I7o5uNb2NuHo",
        "outputId": "ce937001-c080-47a4-8ee5-733c1e77890f"
      },
      "source": [
        "data_set"
      ],
      "execution_count": null,
      "outputs": [
        {
          "output_type": "execute_result",
          "data": {
            "text/plain": [
              "['fadli mendagri nonaktif ahok gubernur https t co kh5virwpdo',\n",
              " 'luka aksi rangka penjara ahok ahok gagal pilkada',\n",
              " 'sylvi gurbernur keras perempuan bukti ibu2 foto bareng debatfinalpilkadajkt',\n",
              " 'ahmad dhani puas debat pilkada jalan bekas ungkap https t co m3hoppluid u2026',\n",
              " 'waspada palsu kawal pilkada https t co oooerqv4sm',\n",
              " 'bnyak agam bahas pilkada terus tingkat iman batas pilkada',\n",
              " 'maksud nyata anda amin kriminalisasi ahok hati2 mulut https t co h4odvay0md',\n",
              " 'ahok integrasi transportasi publik sistem single ticketing u2026 https t co 42ph7pqv0b infotribun',\n",
              " 'ahok lawan korupsi ibukota bangun infrastruktur coba baik trobosan works well',\n",
              " 'awas curang pilkada agus sylvi pakai aplikasi https t co xwzw4nufiu',\n",
              " 'jokowi ahok kalem lengkap',\n",
              " 'makan istana undang makan istana gebang tapi https t co ns6cuycpuj',\n",
              " 'cuti habis ahok gubernur lagi amat republika online https t co t3kzvq9e4e',\n",
              " 'debat pilkada jakarta gelar jumat malam https t co e9ixz6jllr',\n",
              " 'demonstran malteng desak bawaslu henti tahap pilkada malu',\n",
              " 'desak henti ahok ngeles cuti pilkada kampanye habis kemendagri ragu https t co 92ss4trdcx',\n",
              " 'gila gara2 pilkada tokoh tampak watak asli',\n",
              " 'gontor izin santri pulang kampung nyoblos pilkada republika online https t co jhnot8ecnz',\n",
              " 'gubernur non-aktif jakarta basuki tjahaja purnama ahok rencana rombak struktur jabat pegawai https t co cdkezxf9xo',\n",
              " 'hebat imam masjid istiqlal kalimat ahok nista agama sebar',\n",
              " 'ibu2 kalo beli telor pake milih2 sblm timbang telor mirip2 ibu2 tahu telor busuk',\n",
              " 'ahok kait siap debat pilgub besok https t co s6rlsar7y9',\n",
              " 'pesan ahok pers nasional kitapastipernah https t co h0l6mrjm3r',\n",
              " 'istighotsah ahok catut logo https t co u2rpy3c25r',\n",
              " 'ngomong pilih ahok djarot ngerasain banjir',\n",
              " 'dripada hoax',\n",
              " 'lacur belia jual orang tua sendiri pantura demi suap nasi https t co x5ddr7m693',\n",
              " 'nyebar hoax tahu akun twitter',\n",
              " 'mpok -nya tolong',\n",
              " 'bidara beli mangga pulang liwat slip lupa ingetin tetangga milih agus sylvi 7harilagimilihahy agusbersamaulama',\n",
              " 'serius selip hibur ud83d ude06 ud83d ude06 ud83d ude06 pilkadadki2017 debatfinalpilkadajkt',\n",
              " 'sylvie sukses blunder bikin paslon drop elektabilitasnya fitnah spin salah pilih kader debatfinalpilkadajkt',\n",
              " 'ahok mari lomba program debatfinalpilkadajkt',\n",
              " 'debatfinalpilkadajkt aduh kecewa paslon',\n",
              " 'debatfinalpilkadajkt pilih nomor sektor informal maju agus mpok sylvi',\n",
              " 'ahok pilih baik jakarta',\n",
              " 'debatfinalpilkadajkt silvy curhat marah ahok hehe',\n",
              " 'mantap ahok debatfinalpilkadajkt',\n",
              " 'ahok gagah kaya gatot kaca debatfinalpilkadajkt',\n",
              " 'telaaaakkk nomer satuuuu nghahahaha debatfinalpilkadajkt',\n",
              " 'lomba program debatfinalpilkadajkt skaksilvi',\n",
              " 'debatfinalpilkadajkt denger program janji jalan males',\n",
              " 'debat cagub februari 2017 segmen mantap ahok skak sylviana murni n ndebatfinalpilkadajkt',\n",
              " 'silvy rada maksa debatfinalpilkadajkt',\n",
              " 'tanggal pilkada milih siapa',\n",
              " 'pribadi prefer muslim kapabilitas lihat kondisi ahok pilih realistis maju',\n",
              " 'dukung anies anti ahok',\n",
              " 'spanduk tolak salat bela nista agama muncul kalibata https t co sr1pbytign',\n",
              " 'debatfinalpilkadajkt telak banget anjir ngakak',\n",
              " 'lomba program fitnah2 debatfinalpilkadajkt',\n",
              " 'nggak ngantuk lagi yeay debatfinalpilkadajkt',\n",
              " 'bilang program paslon kesi kesi kesi debatfinalpilkadajkt',\n",
              " 'tuntut adil nista agama puluh jawara betawi ikut aksi jilid https t co hwvuozyyov',\n",
              " 'keras ahok debatfinalpilkadajkt',\n",
              " 'paslon anies sandiaga 2017 jakarta indonesia raya',\n",
              " 'sesuai nama ronde final n ndebatfinalpilkadajkt',\n",
              " 'mendagri pusing emoh keluar fatwa status gubernur nista agama https t co j34amqimni',\n",
              " 'tolong program',\n",
              " 'genderang perang kencang debatfinalpilkadajkt',\n",
              " 'mpok sylvi udah emosi ud83d ude02 n debatfinalpilkadajkt',\n",
              " 'some people gabisa bedain kasar tegas debatfinalpilkadajkt',\n",
              " 'beliau pimpin hebat indonesia bangga https t co nawbps9xpt https t co 5cc2u9aiev',\n",
              " 'silvy foto ahok hihihi debatfinalpilkadajkt',\n",
              " 'debatfinalpilkadajkt serang',\n",
              " 'baca biar dingin suasana debatfinalpilkadajkt https t co em9gckc4qe',\n",
              " 'lomba program pitnah doank debatfinalpilkadajkt badjapastimenang',\n",
              " 'pokok kalo ahok udah ngomong aduuuuuuh kelar debatfinalpilkadajkt',\n",
              " 'senjata makan tuan debatfinalpilkadajkt debatfinaldki',\n",
              " 'ahok keras verbal koruptor dielus2 debatfinalpilkadajkt',\n",
              " 'program serang serang karakter ahay ud83d ude02 debatfinalpilkadajkt',\n",
              " 'kait jakarta ramah anak tanggap https t co ufa55uwbci',\n",
              " 'emang anies sandi atas urbanisasi lapang kerja debatfinalpilkadajkt https t co brceczskux',\n",
              " 'suporter kampung paslon ngomong debatfinalpilkadajkt',\n",
              " 'seru debatfinalpilkadajkt',\n",
              " 'debatfinalpilkadajkt nang nang tonjok',\n",
              " 'debat malam pilih jatuh paslon mana debatfinalpilkadajkt debat3pilkadadki',\n",
              " 'wkwkwk udah pilih anies sandi debatfinalpilkadajkt https t co hmxhjyhbnj',\n",
              " 'fitnah kejam bunuh debatfinalpilkadajkt',\n",
              " 'mari debatsehat coba pakai datasesat debatfinalpilkadajkt debatfinaldikompastv',\n",
              " 'berani ahok bongkar mafia anggar tonggak apbd kredibel akuntabel',\n",
              " 'wujud nasional-is-me dagang hebat https t co 0fyig6c2xl',\n",
              " 'dosen liat asli',\n",
              " 'kampanye deklarasi anti sara pikir no 3 mending no 1',\n",
              " 'debatfinalpilkadajkt mateng mpok silvy bombardir ahok cerdas ahok',\n",
              " 'debatfinalpilkadajkt mohon tenang',\n",
              " 'no 1 ngomongin program mulu ngga bhan serang lawan cape dehh debatfinaldki debatfinalpilkadajkt',\n",
              " 'cinta ahok pokok debatfinalpilkadajkt',\n",
              " 'debatfinalpilkadajkt nggak ibu2 foto ahok bapak2',\n",
              " 'agus malam ini rambut bagus debatfinalpilkadajkt',\n",
              " 'ahok janji berani tutup hibur malam jual narkoba',\n",
              " 'agus-sylvi sisip bahasa jawa debat https t co fgtfxgainx',\n",
              " 'ahok udah perhati sandang disabilitas jauuuh kandidat janji nobarahokdjarot badjapastijuara',\n",
              " 'ahok keren debatfinalpilkadajkt',\n",
              " 'gimana ahok sudut final kali',\n",
              " 'fakta asbun badjapastimenang debatfinalpilkadajkt',\n",
              " 'siap meme cctv debatfinalpilkadajkt debat3pilkadadki debatfinaldki',\n",
              " 'nyinyir tingkat nasional debatfinalpilkadajkt',\n",
              " 'drama debatfinalpilkadajkt',\n",
              " 'judul debat nyerang paslon debatfinalpilkadajkt',\n",
              " 'serang gitu debatfinalpilkadajkt',\n",
              " 'debat antem beda tipis debatfinalpilkadajkt',\n",
              " 'orang bilang maki orang debatfinalpilkadajkt',\n",
              " 'perempuan beda kaum perempuan debatfinalpilkadajk',\n",
              " 'mantap anies sandi atas urbanisasi lapang kerja',\n",
              " 'seru ungkit keras verbal laku manusia biasa debatfinalpilkadajkt',\n",
              " 'perempuan perempuan debatfinalpilkadajkt',\n",
              " 'debatfinalpilkadajkt paslon kategori keras debat',\n",
              " 'maaf saya biar malam memposting ujar benci malam xoxo debatfinalpilkadajkt',\n",
              " 'moga allah menang anies-sandi https t co sns0rxrw3f',\n",
              " 'debatfinalpilkadajkt muslim coblos ahok muslim coblos djarot bagaimana',\n",
              " 'debatfinalpilkadajkt pimpin cipta suasana damai tentram domba hasut',\n",
              " 'presiden kapolri debatfinalpilkadajkt',\n",
              " 'liat banget pihak media debatfinalpilkadajkt',\n",
              " 'bagus ilustrasi debatfinalpilkadajkt https t co zaqlqrbiuf',\n",
              " 'ahok keren',\n",
              " 'timeline twitter pilkada bosan sekali',\n",
              " 'mohon tenang mohon tenang debatfinalpilkadajkt',\n",
              " 'ulang jawab beda debatfinalpilkadajkt',\n",
              " 'audio debatfinalpilkadajkt',\n",
              " 'tinggal pinggir kali tanah jual pinggir jalan',\n",
              " 'sehat warga jakartaberlari baru bangun sejahtera warga debatfinalpilkadajkt',\n",
              " 'putus pacar program solusi debatfinalpilkadajkt',\n",
              " 'libat paham bidang duduk pecah solusi pimpin cerdas debatfinalpilkadajkt',\n",
              " 'laki alami keras verbal kali diri marah istri ngaku',\n",
              " 'gera periksadata debatfinalpilkadajkt',\n",
              " 'mayoritas warga jakarta pimpin gubernur baru emang debatfinalpilkadajkt',\n",
              " 'paslon nyerang paslon debatfinalpilkadajkt',\n",
              " 'upaya anies-sandi dukung perempuan laku debatfinalpilkadajkt',\n",
              " 'salah indikator tingkat kualitas hidup warga senyum djarot malam',\n",
              " 'tonton wajib tunggu habis debatfinalpilkadajkt',\n",
              " 'ahok sandang disabilitas mereka jadi debatfinalpilkadajkt',\n",
              " 'jeda ahok djarot sapa ganjar pranowo panggung',\n",
              " 'sayang hyung citra wkwk',\n",
              " 'inget jual balaikota ahok sakit langsung urus citra',\n",
              " 'biar jajan juta',\n",
              " 'ganti astagfirullah rusak citra cewe cantik',\n",
              " 'matanajwadebatjakarta ampun closing statement commentnya gitu',\n",
              " 'closing statement cepet bener debatfinalpilkadajkt',\n",
              " 'debatfinalpilkadajkt kali keren biasa sesi tanya-jawab kali sesi curhat',\n",
              " 'tiga paslon gagal jawab puji baik paslon',\n",
              " 'mari juang sbyudhoyono menang saduddindhani pilkadakabbekasi2017 bekasisah bekasiberjaya',\n",
              " 'jika aparatur beli kyai santri oplos beli asli lawan ketidakadilan',\n",
              " 'pasang unggul debat kandidat gubernur-wagub jakarta malam',\n",
              " 'agam hati dalam citra tetap3 jktberagam',\n",
              " 'bangun bangsa negara engga metoda citra tanpa rekam jejak integritas tokoh',\n",
              " 'sikap jaga prilaku citra jadi orang lain',\n",
              " 'jujur curiga buat baik tuduh citra bahagia abai',\n",
              " 'umat islam peduli agama goda trik2 konyol inshaallah umat islam sadar',\n",
              " 'aniesintoleran nanies baswedan milik integritas kredibilitas pimpin',\n",
              " 'berita ahok nista agama nista agama kampanye jakarta pusat',\n",
              " 'sadis berita ahok judul awal degan dakwa nista agama nama',\n",
              " 'kemarin berita sakit mengingitis babi mksd nyambungnya ahok',\n",
              " 'artis korea world tour ahmad dhani',\n",
              " 'ahok jakarta daging babi hubung',\n",
              " 'ahmad dhani bangkrut tagih utang video mantan istri janda kaya raya tahun lalu',\n",
              " 'ahmad dhani sentil ahok sandiaga cengar cengir',\n",
              " 'hehhee kagum sesorng lebih kecuali rasulullah',\n",
              " 'matanajwadebatjakarta acara abis debat sapa betul papar prog solusi',\n",
              " 'koruptor letak kitab suci tempat rendah tapi milik kapling surga',\n",
              " 'woww dukung rakyat palestina ahok dituduhsbg nista agama mengelu2kan ahok ahok best',\n",
              " 'citra socmed boleh tanggung citra bikin sampe malu-maluin kasi',\n",
              " 'kicau ahmad dhani limpah polres metro jakarta selatan',\n",
              " 'komplit yaaaa heran percaya idolain',\n",
              " 'adil cipta nista agama vonis penjara n berjamaahtolakreklamasi',\n",
              " 'fatwa nista agama keluar fatwa',\n",
              " 'sidang kuat ahok nista agama bantah',\n",
              " 'ahok akademisi ahmad dhani intelektual intelek bang anies',\n",
              " 'nista agama sungguh agama suci alat kejar jabat kuasa',\n",
              " 'kalah pilkada bekas ahmad dhani juru kampanye pasang anies-sandi nenengyes',\n",
              " 'matanajwadebatjakarta bravo closing statement anies malam ini kalau nggak debat nggak nonton mata najwa suka',\n",
              " 'matanajwadebatjakarta anis bikin debat kemarin jawab tarik nyambung',\n",
              " 'matanajwadebatjakarta buzzer ahok kerja keras nih ayo kerja2 gaji turun',\n",
              " 'matanajwadebatjakarta rendah hati lawan rendah hati banget',\n",
              " 'matanajwadebatjakarta gaya kayak',\n",
              " 'matanajwadebatjakarta nyata anis nyaman sara nguntungin anis pura2 bijak pdhl nikmat sara',\n",
              " 'matanajwadebatjakarta nyesel liat debat mutu cela',\n",
              " 'matanajwadebatjakarta simpul rela seorg anies percaya ahok menang salam jari',\n",
              " 'ahoker panas dingin ahok kalah debat anis matanajwadebatjakarta',\n",
              " 'backsound tutup mata najwa musisi judul matanajwadebatjakarta',\n",
              " 'matanajwadebatjakarta ahok rakyat anies curang ngerti beda',\n",
              " 'mantapppp mata najwa diskusi hidup didik kualitas banding debat selenggara',\n",
              " 'mbak najwa ayo tengah sedikit jgn kiri anies cpt2 selesai kalimat2nya',\n",
              " 'ribut pribumi pribumi ramai beranda maksud ikut',\n",
              " 'sedih liat anies tokoh kagum matanajwadebatjakarta',\n",
              " 'bisa serang pribadi program bangga matanajwadebatjakarta',\n",
              " 'gimana gedeg dengerin retorika wawas gimana udah lanjur matanajwadebatjakarta',\n",
              " 'haduhhhh anies dukung didatengin jakarta jakarta matanajwadebatjakarta',\n",
              " 'haha anies pendemo2 jawa barat ngomen takut kalah haha matanajwadebatjakarta',\n",
              " 'matanajwadebatjakarta habis istri marah beli sepatu 300rb istri marah2',\n",
              " 'matanajwadebatjakarta suka serang perang ibadah serang orang',\n",
              " 'matanajwadebatjakarta paslon serang membawa2 hal2 serang paslon tenang jawab',\n",
              " 'aahhh akuh sedih akuh depok ngga jakarta manies jahattttt matanajwadebatjakarta',\n",
              " 'matanajwadebatjakarta saludd mata najwa bobot debat malam',\n",
              " 'orang tanggung tindak anda tuai positif sidangahok',\n",
              " 'anda sidangahok duga nista agama dakwa murni isyu pilkada jakarta murni islam',\n",
              " 'jujur pahala surga sabar basuki freeahok',\n",
              " 'orang tanggung tindak anda tuai positif sidangahok',\n",
              " 'matanajwadebatjakarta terima kasih didik demokrasi rakyat indonesia jakarta',\n",
              " 'agam hati dalam citra tetap3 jktberagam',\n",
              " 'bangun bangsa negara engga metoda citra tanpa rekam jejak integritas tokoh',\n",
              " 'pihak badan hukum rusak demokrasi important matanajwadebatjakarta',\n",
              " 'cerita kalimat2 lontar anies bahasa sendiri biasa matanajwadebatjakarta',\n",
              " 'liat sosmed ahok menang telak sayang kata manis serap bbrp warga kecil matanajwadebatjakarta',\n",
              " 'basuki bebas freeahok',\n",
              " 'debat ahok liat atas angin kliatan kuasa problem solusi tata kelola jakarta',\n",
              " 'lihat ahok kayak lihat power rangers merah',\n",
              " 'simpul ahok fokus detail program anies fokus jatuh lawan matanajwadebatjakarta',\n",
              " 'tunjuk serius ganggu selamat gagas matanajwadebatjakarta',\n",
              " 'pihak layan rakyat sepenuh hati tuhan kuasa tuhan ambil -ahokmatanajwadebatjakarta',\n",
              " 'ahok blunder pak dari udah bagus tanya komitmen terima hasil kontestasi matanajwadebatjakarta',\n",
              " 'pihak badan hukum rusak demokrasi important matanajwadebatjakarta',\n",
              " 'cerita kalimat2 lontar anies bahasa sendiri biasa matanajwadebatjakarta',\n",
              " 'debat ahok liat atas angin kliatan kuasa problem solusi tata kelola jakarta',\n",
              " 'jakarta baik selamat juang ahok anies matanajwadebatjakarta',\n",
              " 'ahoker debat program jlebb kena uppercut anies pergubnya rubah',\n",
              " 'anut agama dapet ahok matanajwadebatjakarta',\n",
              " 'heran ilklan kampanye ahokdjarot baru begitu bingung akuang asiang aming iklanahokjahat',\n",
              " 'abis nyoblos streaming video kembang pilkada 2017 pake sisakuotagakhangus kuota habis',\n",
              " 'muslim negara mayoritas islam moga smua sabar tahan bicara kasar balas',\n",
              " 'jakarta baik selamat juang ahok anies matanajwadebatjakarta',\n",
              " 'anies inget tabur tuai nanti takut matanajwadebatjakarta',\n",
              " 'metode tari sampel hitung cepat litbang kompas pilkada jakarta 2017 simak',\n",
              " 'mnding diem gera salah wktunya menang ntar menang iklanahokjahat',\n",
              " 'bincang tarik quick count pilkada 2017 netpilkada https t co odbvw4uwmr',\n",
              " 'syukur tutup kampanye pilkada jakarta februari 2017 jalan lancar',\n",
              " 'julia perez kecewa gagal nyoblos pilkada 2017 rscm https t co vajplioiek',\n",
              " 'sedia ambulans pasien coblos pilkada 2017',\n",
              " 'pilkada 2017 hilang jamin konstitusi',\n",
              " 'allah anis sandi gubernur jakarta pilih',\n",
              " 'domisili jakpus bela-belain lokasi jakbar modal e-ktp ikut pilkada 2017',\n",
              " 'presiden suara pilkada jakarta 2017 gambir jakarta pusat netpilkada',\n",
              " 'agree kuasa tuhan kasih jatuh tuhan naik matanajwadebatjakarta',\n",
              " 'akibat nila titik rusak susu bangga akibat mulut oknum didik rusak satu bangsa iklanahokjahat',\n",
              " 'mudah novel baswedan alami buta mata buta donor mata',\n",
              " 'rubah pilih iklanahokjahat',\n",
              " 'salah ahok iklan bukan protes orang benar2 pake spanduk iklanahokjahat',\n",
              " 'sampe ngerti rumah skema perban ngasih kredit rumah pakai debatfinalpilkadadki',\n",
              " 'debatfinalpilkadadki anies gubernur pimpin administratur layan masyarkt layan cermin integritas',\n",
              " 'kalimat tutup anies ambisius ahok maaf karakter bohong debatpilkadadki debatfinalpilkadadki',\n",
              " 'tunjuk serius ganggu selamat gagas matanajwadebatjakarta',\n",
              " 'provokasi sentimen jual sara cinta indonesia iklanahokjahat',\n",
              " 'umat suguh iklanahokjahat tebar benci rukun umat agama',\n",
              " 'polling anies sandi menang moga demikian aniessandi',\n",
              " 'iklan kampanye ahox sebarin spanduk syariah brosur black campaign iklanahokjahat',\n",
              " 'brand mana kampung debatfinalpilkadadki',\n",
              " 'sungguh heran kampanye kebhinekaan sebar islamophobia kebhinekaan maksud',\n",
              " 'debat final pilkada jakarta gagap adjat sudradjat',\n",
              " 'pimpin kait lisan beda gubernur anak matanajwadebatjakarta',\n",
              " 'cerita djarot harap dukung damai debatfinalpilkadadki temanahok aniessandi',\n",
              " 'cuman bilang serius banget ngetweet pakai hastag iklanahokjahat gitu baper',\n",
              " 'koesno dekat anies-sandi marah dukung paslon debat pilkada',\n",
              " 'alhamdulillah allah moga jakarta gubernur sahaja sahabat aniessandi',\n",
              " 'jelang larut malam diskusi aktif golkar tingkat lurah gabung menang aniessandi',\n",
              " 'sosok anies sandi ayom kompeten bangun ruku kebhinekaan jakarta',\n",
              " 'ngomong manis gampang gilir kerja bingung matanajwadebatjakarta',\n",
              " 'april warga jakarta tentu ibukota',\n",
              " 'terimakasih anies pemaparantentang beri solusi warga jakarta rumah nyewa terus',\n",
              " 'perhati sibuk ngoceh program ngurus sendiri',\n",
              " 'kalo pilih gubernur jujur kerja nyata anti korupsi tegas pinter mlyani rakyat iklas peduli pilih ahok djarot',\n",
              " 'salah jokowi ahok kafir ateis https t co v2grcuesti',\n",
              " 'biar biar kena suka ahok biar kena',\n",
              " 'angin memporakporandakan basis menang nista agama cililitan nya alloh ampun kami njakartabanjir',\n",
              " 'prestasi ahok nselain mjadi mafia koruptor nista agama bhasil tenggelam congor cebon',\n",
              " 'ulama kompak nyata harampemimpinkafir pilih ahok murtad',\n",
              " 'bodoh gk larang bawa agama biar orang islam bayar ahok sadar milih ahok',\n",
              " 'tanah abang cina udah resah stres gara2 nista agama pilkada pasar sepi sepi minggu',\n",
              " 'tentang cina kafir ahok kriminalisasi polisi smua rekayasa hukum',\n",
              " 'habis pikir fanboy ahok bego bego ngerti sejarah gampang jebak iklan maaf',\n",
              " 'pilih ahok drpd pilih iman koruptor munafik bodoh',\n",
              " 'ahok hina qur an ulama sikap jijik suci https t co btkcetnk0g',\n",
              " 'umat islam pinter percaya aksi hubung pilkada bayar anies untung ud83d ude01',\n",
              " 'debatfinalpilkadajkt mampuuuusssssss mpok silvy',\n",
              " 'hidup china komunis https t co b1rhevkrxl',\n",
              " 'salah jokowi ahok babi ateis https t co v2grcuesti',\n",
              " 'kalo ahok menang pilkada bikin video bareng anak https t co 7msmthwwlk',\n",
              " 'keluarga domisili jakarta pilih ahok https t co gzkzftpvcw suara ulama bulat harampilihahok jangangolput',\n",
              " 'ketutunan cina kota pulau kejakarta coblos ahok aspal kamboja',\n",
              " 'china babi china maling nusirchina https t co 9y4hiwhjp2',\n",
              " 'pilih agus-sylvi nanaknya keluarga koruptor nblusukanahok nberjamaahcoblospecinya u2026',\n",
              " 'tangkap ahok klompok palsu karna penghiyanat bangsa negara',\n",
              " 'tangkap ahok juga share tuju',\n",
              " 'sayang bangsa jago rasa dukung ahok benar dukung anies suci',\n",
              " 'video ahok hina agama kristen agama konyol ahokpecahbelahbangsa',\n",
              " 'nista agama ahok pecah belah bangsa https t co 6qkifcjqhq',\n",
              " 'mbak sylviana please sehat debatfinalpilkadajkt perjuanganbelumselesai',\n",
              " 'nomor lansung skak wkwkwk debatfinalpilkadajkt',\n",
              " 'ayoo jaga utuh nkri tangkap nista agama stopkriminalisasiulama https t co dxidq4zqhv',\n",
              " 'salah dukung mafia koruptor nista agama gerombol banci titot laku bidik arah',\n",
              " 'tobat lambat biar gerombol konsisten bela kafir hayat https t co 979uj6itrm',\n",
              " 'allah tempuh cara2 curang menang nista agama engkau kirim malaikat maut les u2026',\n",
              " 'dukung ahok kalah jumlah izin allah gusur gubernur koruptor nista agama https t co jp7pglrgie',\n",
              " 'jakartabanjir pimpin akhlak baik nista agama https t co pnegdjmpch',\n",
              " 'twit asik akun pro-penista agama akun buzzer kerja hujat',\n",
              " 'ahoker bela nista agama https t co hxuu4rudfx',\n",
              " 'cucu dajjal hadir',\n",
              " 'siang malam maki2 ulama kita nongkrongi medsos ulama2 nbela nista agama sombong ampun',\n",
              " 'mayoritas etnis china dki nmengapa solid dukung nista agama islam n ndendam ntidak nasionalis',\n",
              " 'muka silvy asem bangett ngakak kena abis jahat debatfinalpilkadajkt',\n",
              " 'gara2 bain dakwa nista agama semua sukurin',\n",
              " 'kumpul teman nista agama ntdk empati korban banjir koar2 puji junjunganya https t co xqfktdg74x',\n",
              " 'penjara nista agama turun https t co vqh0tnxarz',\n",
              " 'nista agama jaga mulut gabisa jaga',\n",
              " 'ahok program paslon program ngambang yaiyalah pakkk program diaa cela debatfinalpilkadajkt',\n",
              " 'ahok djarot gagal atas banjir orang kena banjir sibuk sidang nista agama',\n",
              " 'iyaa ahog ngak pantes pimpin pantesnya nista agama penjara https t co yhho40qwxs',\n",
              " 'overdosis bela nista agama https t co i84rarpy5w',\n",
              " 'kaga masuk akal kite kalo suara nista agama kutuk umat islam suara tinggi emang sengaja ditinggiin',\n",
              " 'pantas pecat menteri data2 ngawur memkasakan betul hahaha ahokpastitumbang paslon3 pilgubdki',\n",
              " 'penjara ahoax nista agama jokowi turun konsolidasidewanpkb https t co xow5eakisk',\n",
              " 'napa dibiarin nista agama maen curang maren emang sengaja dibiarin biar ntar gaplok umat islam rame2 jakarta nista',\n",
              " 'hahahahhahaa silvy silvy cacing ahhh wkwkwkwkwkk debatfinalpilkadajkt',\n",
              " 'ahok taik menfitnah emang tukang caci maki perempuannn asuuu ahokpastitumbang debatfinalpilkadajkt',\n",
              " 'ahokpastitumbang fakta bilang fitnah ndebatfinalpilkadajkt',\n",
              " 'shame silvy malu fitnah rasain ahok panas skak debatfinalpilkadajkt',\n",
              " 'silvi anti level rendah debatfinalpilkadajkt',\n",
              " 'orang islam bodoh goblok milik ahok debatfinalpilkadajkt',\n",
              " 'fitnah pecah ulah ahoker elektabilitas ahok tinggal 10 mereka kelojot mui nu muhammad',\n",
              " 'norak banget iklan mantan mendikbud respech tenun bangsa maksud u2026 https t co ux7heykblg',\n",
              " 'nebar benci ahok mbak masa mbak dakwa',\n",
              " 'sylvi mutu amat debatfinalpilkadajkt',\n",
              " 'huuu sylvi ngoceh nobarahokdjarot debatfinalpilkadajkt',\n",
              " 'sylvi liat bloonnya debatfinalpilkadajkt',\n",
              " 'ahoax nista agama olok olok surat al-maidah',\n",
              " 'jakartabanjir pimpin akhlak baik nista agama',\n",
              " 'debatfinalpilkadajkt mati',\n",
              " 'program bisa fitnah ciri orang demen ngambil kontan debatfinalpilkadajkt',\n",
              " 'mpok silvi nyinyir melulu sayang sesat maklum dese emakemak debatfinaldki debatfinalpilkadajkt',\n",
              " 'hahaha jelas2 pilkada dasar polisi made cina lindung nista agama',\n",
              " 'kurang daya wanita jakarta telak beda warna muka warna tangan mpok sylvi debatfinalpilkadajkt',\n",
              " 'agus silvy tukang fitnah debatfinalpilkadajkt',\n",
              " 'debatfinalpilkadajkt yaudah kalo sakit fisik verbal gebukin rame2',\n",
              " 'keluarga maling coyy trauma kaleeeee emang kluarga ente',\n",
              " 'kait jokowi ahok johan budi kami jokowi anjing ahok babi beda otak',\n",
              " 'bajing silvy debatfinalpilkadajkt',\n",
              " 'hasil akhir lindung ahok dakwa nista agama',\n",
              " 'lepas banjir jakarta dukung ahok ganti narasi untung sang nista agama',\n",
              " 'tionghoa kaya putus sekolah banyak dugem',\n",
              " 'gusur ahok indonesia teladan buruk bangkang hukum anti manusia jakarta tular daerah coblospecinya',\n",
              " 'ahoker takut mati disholatin tenang janda gadungan sholatin ahoker jokower',\n",
              " 'mampuuss tembak dalem banget silvyy urusin dapurr program demen nyerang gue2 debatfinalpilkadajkt',\n",
              " 'anjir kali lihat orang bego debat pilkada kerja nyerang karakter shame mpok silvy agus debatfinalpilkadajkt',\n",
              " 'uang taipan bayar ratus gusur biadab ahok',\n",
              " 'cina https t co zm1bsjaiha',\n",
              " 'ngomong sylvi liat debat ahok sylvi langsung kuat goblok',\n",
              " 'banjir tuhan lawan ahok jakartabanjir jakarta banjir genang',\n",
              " 'pemimpim pribumi pilih pimpin impor adab tukang bohong pribumi milik bangsa',\n",
              " 'karna program modal bacot doang',\n",
              " 'dukung nista agama sebut dukung gera',\n",
              " 'narkoba bahaya ilusi suci ahok sang nista',\n",
              " 'emang ahok siapa orang penting nista agama',\n",
              " 'cina duit hasil maling indonesia balikin kedok invest plus bawa gembel2 napi cina negeri nenek moyang ahok',\n",
              " 'tangkap ahok skrng juga koruptor reklamasi jakarta nista agama islam',\n",
              " 'liat banget bego mpok silvy agus debatfinalpilkadajkt',\n",
              " 'ahokers neng cuit silah unfollow anti ahok nista agama islam',\n",
              " 'agama nista ulama leceh alas harampemimpinkafir',\n",
              " 'serang ahok kafir galak',\n",
              " 'anjing2 ahok kaum babi bnyk bacot mnding duel',\n",
              " 'ahok verbal keras lampias lari lelaki lunak',\n",
              " 'maling china2 babi blbi korupsi triliun ahok korupsi triliun',\n",
              " 'mimpi djan farid jakarta islami aceh ahok pilih babi rindu halal',\n",
              " 'ridwal kamil hebat nggak kaya ahok tukang nista agama koruptor',\n",
              " 'ahok kutil babi',\n",
              " 'dasar kutil babi ahok tukang bohong bohong ahok salah tutup gagal contoh banjir',\n",
              " 'dakwa nista agama alias ahok babi jamban morfotin uang rakyat jakarta',\n",
              " 'om ahoknya mana om kata babi ahok ngatasi banjir om babi bual',\n",
              " 'anak babi jalan nunduk karena malu liat ulah ngebelain ahok',\n",
              " 'perilaku babi benci islam cocok ahok',\n",
              " 'ahok kutil babi rumah lembang jakarta banjir',\n",
              " 'jujur orang cerdas pintar pilih orang imam pimpin bisa sholat bisa ngaji santun sopan tidak babi kafir ahok',\n",
              " 'teman ahok emank pimpin babi',\n",
              " 'babi ahok ngejek onta biar injek2 onta',\n",
              " 'stigma babi milik tuhan ahok kafir',\n",
              " 'kampung dukung https t co gmezpoylsy',\n",
              " 'udah panik gitu ahok kutil babi tumbang putar terus cuapcuap sosmed ngaruh',\n",
              " 'ahok layak manusia babi akal pikir jiwa manusiawi',\n",
              " 'ahok basuki babi',\n",
              " 'cacimaki nista agama poligami ngumpet2 digituin ogah',\n",
              " 'trump nista agama anti islam emang hubung anis',\n",
              " 'nada aseng koplo bela nista agama durjana nyuruh ngaji',\n",
              " 'bodoh nista agama pilih pimpin shalat',\n",
              " 'pilih anis sandi doong jgn pilih nista agama pecah nkri',\n",
              " 'emang dakwa nista agama salah mana coba bikin hoax metrotipu aman2 dewan peres',\n",
              " 'pamor akan parpol usung dukung nista agama',\n",
              " 'ahok pantas nobat sbgai babi ngepret',\n",
              " 'salah tulis dakwa nista agama coba tulis baginda mulia masalah cuih',\n",
              " 'fakta cina2 parasit ngotot bain nista agama',\n",
              " 'jokowi ratu adil turun darah biruadanya darah kotor cina babi',\n",
              " 'keren apps kawal gabung pasti cagub dakwa nista agama cepat antar habitat',\n",
              " 'koar sembarang dong liat banget beneran bego fuckyou',\n",
              " 'ahmad dhani hormat babi anjing aing kontol lonte tungu karier habis',\n",
              " 'kang fakta ini partai dukung nista agama benci rakyat masuk rakyat jabar',\n",
              " 'plis cantik pacarin artis2 letek jijik liat',\n",
              " 'muntah liat lagak orang banget hoek',\n",
              " 'ngomong ahmad dhani monyet babi anjing',\n",
              " 'perempuan kaya mending mati jelek gausa make artist',\n",
              " 'ahmad dhani borok sampah babi anjing orang muak liat muka dhani bangga',\n",
              " 'emang jelas2 ahok dakwa nista agama malu',\n",
              " 'putus erka hormat pilih partai dukung nista agama',\n",
              " 'lupa biar karam kapal munafik bangun jabar kapal bersih delete partai dukung nista agama hati',\n",
              " 'dunia nafsu kang kata2 sayap kayak burung hantu',\n",
              " 'nista agama santri hormat yang kasih ahok otak reparasi demi pulkada nama santri kail jual belikan',\n",
              " 'payah banget maju jabar1 pakai partai nasdem dukung nista agama ente butuh uang kang payah',\n",
              " 'polisi imam sholat nista agama bodoh islam ikut2an copot kapolres jakbar',\n",
              " 'bodoh nista agama pilih pimpin shalat',\n",
              " 'habis pikir n ntinggal nunggu adzab allah negeri pimpin dzalim',\n",
              " 'kampung datang nista agama',\n",
              " 'tuju saya klau ahok gelar santri hormat santri hormat babi',\n",
              " 'senang fans mati lupa bego banget',\n",
              " 'babi anjing mampus kalah jatuh miskin bekasisah',\n",
              " 'ahoak cina anjing kafir nista agama islam',\n",
              " 'anjing ahmad boleh aku babi ahmad dhani boleh',\n",
              " 'haha maki lawan harus drpd tindas pimpin munafik lindung nista agama agama islam taubat',\n",
              " 'pikir anak bani kampret beda nista agama penfitnah tipu garong',\n",
              " 'cewe pake kerudung ngapain kali konfrensi pers citra islami kaliiii bwahaha',\n",
              " 'ahok nasdem susul dukung paslon nista agama tukang caci maki',\n",
              " 'kalo mecin dijadiin cemilan mang kang bego bego banget',\n",
              " 'didoain ketemu nista agama langsung ceburin laut reklamasi ijin sembunyi2 tumbal reklamasi',\n",
              " 'cabe2an bbm n facrbook n politik berita2 sampah citra',\n",
              " 'manusia anjing mati rela murtadz babi ahok kafir',\n",
              " 'ahok jamban bela aparat kristen china kafir berani menghi',\n",
              " 'resah presiden hidup penuh drama citra main joko judul',\n",
              " 'percya lagi sdgkan induk nista skrg tahan bela',\n",
              " 'mari muslim cyber army skrg ganti sebut dakwa nista agama',\n",
              " 'orang islam suka hoax nista agama jaga lisan tindak rusak hubung',\n",
              " 'nomor2koruptor negeri korup asuh cino babi',\n",
              " 'hajar bleh bela nomor2koruptor cuihhhhhh',\n",
              " 'cebong gendheng ngamuk2 bain homo nista agama hahaha',\n",
              " 'tolol bela nista agama sangka',\n",
              " 'orang saksi anjing kasus babi tolol',\n",
              " 'ahok kampret emang becus kerja citra mlulu ahok kampret',\n",
              " 'kampung datang nista agama',\n",
              " 'tanda2 kiamat orang muslim ingkar al-quran pilih nista agama nomor2koruptor nomor2koruptor',\n",
              " 'janganmaudibohongiahok ahok sumber kacau politik ramai aski fight',\n",
              " 'matanajwadebatjakarta anies sadis topeng buka lebar malam biar warga nilai apa kecut',\n",
              " 'anies congor gede realisasi janji bisa korupsi dosen bangsat',\n",
              " 'matanajwadebatjakarta hebat ahok salam anies hormat idih ogah',\n",
              " 'matanajwadebatjakarta urus bacot anis juara memang makan bacot jakarta haha paslon aneh gede bacot doang',\n",
              " 'matanajwadebatjakarta anies omdo menteri terobos skrg ngomong jago',\n",
              " 'matanajwadebatjakarta cina babi ahok bloon banget pinter banget lagi ahok',\n",
              " 'matanajwadebatjakarta lucu banget ahok nyambung kena skak agama dasar cina tolol hahaha',\n",
              " 'matanajwadebatjakarta topeng buka dukung anda busuk',\n",
              " 'matanajwadebatjakarta anies suka nyinyir suka putar fakta program bisa jelek kerja basuki',\n",
              " 'babi ahok kayak babi',\n",
              " 'tengkuk babi sipit bangke agen dajjal onta hahaha orang waras ahok paksa',\n",
              " 'ahok kafir umat islam anti ahok ahok kafr tambah ahok cina suka makan babi',\n",
              " 'bilang babi ahok kafir gerombol babi ahok rasa bagaiamana anjing2in bangsat2in',\n",
              " 'sibabi china biadab laku kaum pribumi jongon2 banser nusantara dukung timpang biadab',\n",
              " 'ahok kafir takut debat rakyat asli pribumi nelayan pakar reklamasi rakyat ahok kafir bencong',\n",
              " 'nampaknya paket sokong cina babi sokong lgbt',\n",
              " 'biadab ahok cina kafir anak2 rakyat pribumi ibu2 islam gusur rumah hidup',\n",
              " 'ahok otak otak tumpul anies komit pancasila ahok kafir pancasila',\n",
              " 'matanajwadebatjakarta anies tinggal tenang tulus debat malam agitatif licik moga kalah anjing',\n",
              " 'proses sidangahok waspada ulama2 kubu ahok yakni ulama2 munafik sesat sesat',\n",
              " 'anies rangkul dua2nya satu ente dangkal cekak intelektual budak ahok kafir',\n",
              " 'biadab ahok cina kafir rakyat asongan2 digusur2 aniaya teroris ahok kafir biadab',\n",
              " 'kenyataanya juta rakyat asli pribumi miskin miskin ahok cina kafir',\n",
              " 'indonesia dibully bener yg salah binatang2 nomor dibiarin liar matanajwadebatjakarta',\n",
              " 'sidangahok sipenista agama ateknya mati wjar jasad dtrma prnh sorga aamiin moga tuhan tuju',\n",
              " 'iya kelas nista agama bs ngebacot doang arogan taik nenek lu oh sumber waras nama apkabar skakmat',\n",
              " 'penjara cina kafir ateis ahok pimpin babi tukang korupsi',\n",
              " 'kampanye ngmg ahok untung goblok kafir untung perkosa bunuh enak duit',\n",
              " 'hahaha idiot bilang orang2 kafir terurama nasrani pendukung2 ahok kafir pasuk wilayah2 syariat islam',\n",
              " 'hasil makmak jual puki kslian pihak ahok anak china anjing kafir nkri',\n",
              " 'dukung sakit jiwa hilang akal sehat iklanahokjahat',\n",
              " 'iklanahokjahat hati hati prustasi main kasar hasil survei nista agama kalah',\n",
              " 'hookk masuk gorong iklanahokjahat',\n",
              " 'kayak kampanye aniessandiuno kampung2 intimidasi masyarakat kampung asutenan',\n",
              " 'kutil babi leceh pribumi umat islam iklanahokjahat',\n",
              " 'ngomong ente kaca pecah belah rukun ente bisa ngaco iklanahokjahat',\n",
              " 'iklanahokjahat terorist nyata indonesia wahabi onta babi babi milik cina tebar teror sungguh',\n",
              " 'sadar anak bangsa pertiwi diporakporandakan manusia biadab aktor utama',\n",
              " 'gerombol rindu rusuh hati2 kabul tuhan iklanahokjahat',\n",
              " 'ahok bani serbet wereng coklat pancing umat muslim marah iklanahokjahat kumpul orang sinting',\n",
              " 'iklanahokjahat rezim jokopret setan iblis dajjal bangkit kubur gembira pesta pora belenggu',\n",
              " 'anti cina ganyang cina siapaaaa anti ahok sang nista agama kampanyeahokjahat iklanahokjahat kampanyesara',\n",
              " 'udah bingung kalik pakai kampanye sampai2 bikin fitnah kayak begitu depresi takut kalah iklanahokjahat',\n",
              " 'tahu sama malin kundang ahok sama-sam durhaka asbak iklanahokjahat kampanyeahokjahat',\n",
              " 'haduh laku jaga agam provokator iklanahokjahat',\n",
              " 'iklanahokjahat bikin darah didih bangsat penuh propaganda emang islam radikal kalau',\n",
              " 'kapolda babi biadap bodoh otak kali',\n",
              " 'jangan2 hina islam manusia hina banding agama mulia siapa2 apa2 iklanahokjahat',\n",
              " 'ahok kafir budak2nya anjing2 sampah agama islam sampah masyarakat',\n",
              " 'umat agama islam dijakarta haram najis ahok kafir kristen',\n",
              " 'april kibar bendera kuning mati ahok-djarot',\n",
              " 'akibat ulah orang2 kafir nasrani persis ahok kafir larang jilbab anak2 seko jakarta',\n",
              " 'baswedan gubernur jakarta komisioner ahok kafir pantas germo alexis',\n",
              " 'iklanahokjahat ganyang beneran hok itu hok adu domba pribumi tionghoa jangan',\n",
              " 'djarot pikir rakyat pribumi bisa babu cina2 betul2 songong jongkok',\n",
              " 'otak otak babi terima ahok kafir kamu ahok kafir hina anggap islam sampah',\n",
              " 'putar ahok kafir curang umat islam komitmen jakarta jadi laut mikir hukum',\n",
              " 'iklanahokjahat ahok cipta bara rakyat pribumi tionghoa balut phobia ahok kafir',\n",
              " 'heran perintah jokowi budak kuli cina2 ahok kafir naga',\n",
              " 'nama cawgub goblok ngerti atur debat lihat bego licik sandiaga',\n",
              " 'bodoh dukung ahok muslim singgung qur an hina mrka diam iklanahokjahat',\n",
              " 'gubraaaaak malu liat untung semalem debat kaya mata najwa coba kalo format ringsek pasang',\n",
              " 'otak ahok-djarot tumpul loyo stress jebol copot ganti',\n",
              " 'ahok kafir maling garong lahan laut milik nelayan rampok rampas reklamasi untung cina2 kafir',\n",
              " 'sumpah bego kesel vote makhluk kayak sandiaga coba agama',\n",
              " 'responden2 yangg goblok2 faham wartawan beritasatu goblok anies-sandy pimpin mudah',\n",
              " 'renovasi masjid tepat ahok kafir kristen ngapain ngurusi masjid2 hubung',\n",
              " 'ahoker kristen munafik henti mengolok2 gereja stiap hari dibriefing ahok hina bumi datar',\n",
              " 'surveynya botak menang ahok cina kristen bukti kalo botak dukung cina kristen',\n",
              " 'ahok pecah belah ummat ajar kristen konyol raup suara muslim ahok tulen',\n",
              " 'udah nonton fitnah pale yang',\n",
              " 'ahok pilih pimpin dasar agama langgar konstitusi babi bungkus congornyapecah belah umat agama',\n",
              " 'pribumi kristen dukung ahok anti manusia2 bodoh goblok steven hadisurya sulistyo',\n",
              " 'maksud bukti korupsi nista agama bangsat taik maaf pake bahasa babi ahok',\n",
              " 'taik bangsat omong kayak iwan bopeng potong leher bangsat iwan bopeng baek2in taik',\n",
              " 'anak anjing ahok kelan blon siuman mending emut2 bool basuki sana kasih babi lain bool basuki wangi gitu',\n",
              " 'cakep bego pantes laku si ahok cina tai makan bubur encer ahok faham komunis nista islam kristen',\n",
              " 'ajeng paham babi ahok bicara santun bangsat taik anjing setan dngn intonasi familiar tuntuna',\n",
              " 'bunuh depan mata mafia koruptor nista agama pula panggil popular babi ahok',\n",
              " 'gimana sumber waras trans jakarta jokowi diem ajah kutil babi ahok ganyang',\n",
              " 'muka babi ahok serbet lantai',\n",
              " 'bang hancur merka bang musnah china babi bumi pertiwi indonesia kedok reklamasi ahok',\n",
              " 'sapa bilang ahok anti korupsi grombolannya ngomong wajar ahok mafia koruptor sang nista agama lindung istana',\n",
              " 'ngimpi sentilin biji babi ahok pcetar pcetar langsung kejang2 ngadu makanye sunat dulu ngomong almaidah',\n",
              " 'mudah2an ketemu babi iwan bopeng anjing ahok']"
            ]
          },
          "metadata": {
            "tags": []
          },
          "execution_count": 98
        }
      ]
    },
    {
      "cell_type": "code",
      "metadata": {
        "id": "s81wVh19N7vW"
      },
      "source": [
        "df_fix['Prepro'] = pd.Series(data_set).values"
      ],
      "execution_count": null,
      "outputs": []
    },
    {
      "cell_type": "code",
      "metadata": {
        "colab": {
          "base_uri": "https://localhost:8080/",
          "height": 406
        },
        "id": "CvjCNc-DOGTv",
        "outputId": "a46b856e-0a87-4f46-c625-6164a7580ab5"
      },
      "source": [
        "df_fix"
      ],
      "execution_count": null,
      "outputs": [
        {
          "output_type": "execute_result",
          "data": {
            "text/html": [
              "<div>\n",
              "<style scoped>\n",
              "    .dataframe tbody tr th:only-of-type {\n",
              "        vertical-align: middle;\n",
              "    }\n",
              "\n",
              "    .dataframe tbody tr th {\n",
              "        vertical-align: top;\n",
              "    }\n",
              "\n",
              "    .dataframe thead th {\n",
              "        text-align: right;\n",
              "    }\n",
              "</style>\n",
              "<table border=\"1\" class=\"dataframe\">\n",
              "  <thead>\n",
              "    <tr style=\"text-align: right;\">\n",
              "      <th></th>\n",
              "      <th>Tweet</th>\n",
              "      <th>Label</th>\n",
              "      <th>Prepro</th>\n",
              "    </tr>\n",
              "  </thead>\n",
              "  <tbody>\n",
              "    <tr>\n",
              "      <th>0</th>\n",
              "      <td>Fadli Zon Minta Mendagri Segera Menonaktifkan ...</td>\n",
              "      <td>Non_HS</td>\n",
              "      <td>fadli mendagri nonaktif ahok gubernur https t ...</td>\n",
              "    </tr>\n",
              "    <tr>\n",
              "      <th>1</th>\n",
              "      <td>Mereka terus melukai aksi dalam rangka memenja...</td>\n",
              "      <td>Non_HS</td>\n",
              "      <td>luka aksi rangka penjara ahok ahok gagal pilkada</td>\n",
              "    </tr>\n",
              "    <tr>\n",
              "      <th>2</th>\n",
              "      <td>Sylvi: bagaimana gurbernur melakukan kekerasan...</td>\n",
              "      <td>Non_HS</td>\n",
              "      <td>sylvi gurbernur keras perempuan bukti ibu2 fot...</td>\n",
              "    </tr>\n",
              "    <tr>\n",
              "      <th>3</th>\n",
              "      <td>Ahmad Dhani Tak Puas Debat Pilkada, Masalah Ja...</td>\n",
              "      <td>Non_HS</td>\n",
              "      <td>ahmad dhani puas debat pilkada jalan bekas ung...</td>\n",
              "    </tr>\n",
              "    <tr>\n",
              "      <th>4</th>\n",
              "      <td>Waspada KTP palsu.....kawal PILKADA https:\\/\\/...</td>\n",
              "      <td>Non_HS</td>\n",
              "      <td>waspada palsu kawal pilkada https t co oooerqv4sm</td>\n",
              "    </tr>\n",
              "    <tr>\n",
              "      <th>...</th>\n",
              "      <td>...</td>\n",
              "      <td>...</td>\n",
              "      <td>...</td>\n",
              "    </tr>\n",
              "    <tr>\n",
              "      <th>513</th>\n",
              "      <td>Muka Si BABi Ahok Tuh Yg Mirip SERBET Lantai.....</td>\n",
              "      <td>HS</td>\n",
              "      <td>muka babi ahok serbet lantai</td>\n",
              "    </tr>\n",
              "    <tr>\n",
              "      <th>514</th>\n",
              "      <td>Betul bang hancurkan merka bang, musnahkan chi...</td>\n",
              "      <td>HS</td>\n",
              "      <td>bang hancur merka bang musnah china babi bumi ...</td>\n",
              "    </tr>\n",
              "    <tr>\n",
              "      <th>515</th>\n",
              "      <td>Sapa Yg bilang Ahok anti korupsi!?, klo grombo...</td>\n",
              "      <td>HS</td>\n",
              "      <td>sapa bilang ahok anti korupsi grombolannya ngo...</td>\n",
              "    </tr>\n",
              "    <tr>\n",
              "      <th>516</th>\n",
              "      <td>Gw juga ngimpi SENTILIN BIJI BABI AHOK, pcetar...</td>\n",
              "      <td>HS</td>\n",
              "      <td>ngimpi sentilin biji babi ahok pcetar pcetar l...</td>\n",
              "    </tr>\n",
              "    <tr>\n",
              "      <th>517</th>\n",
              "      <td>Mudah2an gw ketemu sama SI BABI IWAN BOPENG DI...</td>\n",
              "      <td>HS</td>\n",
              "      <td>mudah2an ketemu babi iwan bopeng anjing ahok</td>\n",
              "    </tr>\n",
              "  </tbody>\n",
              "</table>\n",
              "<p>518 rows × 3 columns</p>\n",
              "</div>"
            ],
            "text/plain": [
              "                                                 Tweet  ...                                             Prepro\n",
              "0    Fadli Zon Minta Mendagri Segera Menonaktifkan ...  ...  fadli mendagri nonaktif ahok gubernur https t ...\n",
              "1    Mereka terus melukai aksi dalam rangka memenja...  ...   luka aksi rangka penjara ahok ahok gagal pilkada\n",
              "2    Sylvi: bagaimana gurbernur melakukan kekerasan...  ...  sylvi gurbernur keras perempuan bukti ibu2 fot...\n",
              "3    Ahmad Dhani Tak Puas Debat Pilkada, Masalah Ja...  ...  ahmad dhani puas debat pilkada jalan bekas ung...\n",
              "4    Waspada KTP palsu.....kawal PILKADA https:\\/\\/...  ...  waspada palsu kawal pilkada https t co oooerqv4sm\n",
              "..                                                 ...  ...                                                ...\n",
              "513  Muka Si BABi Ahok Tuh Yg Mirip SERBET Lantai.....  ...                       muka babi ahok serbet lantai\n",
              "514  Betul bang hancurkan merka bang, musnahkan chi...  ...  bang hancur merka bang musnah china babi bumi ...\n",
              "515  Sapa Yg bilang Ahok anti korupsi!?, klo grombo...  ...  sapa bilang ahok anti korupsi grombolannya ngo...\n",
              "516  Gw juga ngimpi SENTILIN BIJI BABI AHOK, pcetar...  ...  ngimpi sentilin biji babi ahok pcetar pcetar l...\n",
              "517  Mudah2an gw ketemu sama SI BABI IWAN BOPENG DI...  ...       mudah2an ketemu babi iwan bopeng anjing ahok\n",
              "\n",
              "[518 rows x 3 columns]"
            ]
          },
          "metadata": {
            "tags": []
          },
          "execution_count": 101
        }
      ]
    },
    {
      "cell_type": "markdown",
      "metadata": {
        "id": "3oCPgmDvVZuv"
      },
      "source": [
        "Data yang sudah berhasil dilakukan preprocessing text disimpan dalam kolom baru bernama Prepro yang akan dibangun model analisis sentimen"
      ]
    },
    {
      "cell_type": "markdown",
      "metadata": {
        "id": "1RAcfwUsVm4d"
      },
      "source": [
        "## **Model Analisis Sentimen**"
      ]
    },
    {
      "cell_type": "code",
      "metadata": {
        "id": "T_I-jeyuOfyQ"
      },
      "source": [
        "from sklearn.feature_extraction.text import TfidfVectorizer\n",
        "from sklearn.feature_extraction.text import CountVectorizer\n",
        "from sklearn import model_selection, preprocessing\n",
        "from sklearn.preprocessing import MinMaxScaler\n",
        "from sklearn.naive_bayes import MultinomialNB\n",
        "mnb = MultinomialNB()\n",
        "import numpy as np\n",
        "from sklearn.metrics import confusion_matrix\n",
        "from sklearn import metrics"
      ],
      "execution_count": null,
      "outputs": []
    },
    {
      "cell_type": "markdown",
      "metadata": {
        "id": "CikbDO1YVywH"
      },
      "source": [
        "### **Vektorisasi**"
      ]
    },
    {
      "cell_type": "code",
      "metadata": {
        "id": "rCQx_iASOMEZ"
      },
      "source": [
        "train = df_fix['Prepro']"
      ],
      "execution_count": null,
      "outputs": []
    },
    {
      "cell_type": "code",
      "metadata": {
        "id": "H1911Sa7Oyuw"
      },
      "source": [
        "train_data = tfidfVectorizer.fit_transform(train)"
      ],
      "execution_count": null,
      "outputs": []
    },
    {
      "cell_type": "code",
      "metadata": {
        "colab": {
          "base_uri": "https://localhost:8080/"
        },
        "id": "0toEmqxnPBtT",
        "outputId": "4fb32184-40bc-4306-d67c-b81beee10e76"
      },
      "source": [
        "train_data.shape"
      ],
      "execution_count": null,
      "outputs": [
        {
          "output_type": "execute_result",
          "data": {
            "text/plain": [
              "(518, 1766)"
            ]
          },
          "metadata": {
            "tags": []
          },
          "execution_count": 171
        }
      ]
    },
    {
      "cell_type": "code",
      "metadata": {
        "id": "fLrjNGnlPD8Z"
      },
      "source": [
        "y = df_fix['Label']\n",
        "y = y.values\n",
        "X = train_data\n",
        "X = X.toarray()"
      ],
      "execution_count": null,
      "outputs": []
    },
    {
      "cell_type": "markdown",
      "metadata": {
        "id": "f67SIutZV4_q"
      },
      "source": [
        "### **Multinomial Naive Bayes Classifier**"
      ]
    },
    {
      "cell_type": "code",
      "metadata": {
        "id": "BoFSG8YdPNSk"
      },
      "source": [
        "x_train, x_test, y_train, y_test = model_selection.train_test_split(X, y, test_size=0.1)    \n",
        "Feature_scaler = MinMaxScaler(feature_range=(0.01, 0.99))\n",
        "x_train = Feature_scaler.fit_transform(np.array(x_train))\n",
        "x_test = Feature_scaler.fit_transform(np.array(x_test))"
      ],
      "execution_count": null,
      "outputs": []
    },
    {
      "cell_type": "markdown",
      "metadata": {
        "id": "MUUYDS4dWHBR"
      },
      "source": [
        "### **Evaluasi Model**"
      ]
    },
    {
      "cell_type": "code",
      "metadata": {
        "colab": {
          "base_uri": "https://localhost:8080/"
        },
        "id": "bUHMNRIyPXFe",
        "outputId": "8501e706-4e69-481e-ffc2-7ddc959a6cc4"
      },
      "source": [
        "# training & evaluasi NB\n",
        "\n",
        "mnb.fit(x_train, y_train)\n",
        "y_preds = mnb.predict(x_test)\n",
        "print(f\"Accuracy : \",metrics.accuracy_score(y_test, y_preds))"
      ],
      "execution_count": null,
      "outputs": [
        {
          "output_type": "stream",
          "text": [
            "Accuracy :  0.8653846153846154\n"
          ],
          "name": "stdout"
        }
      ]
    },
    {
      "cell_type": "code",
      "metadata": {
        "colab": {
          "base_uri": "https://localhost:8080/"
        },
        "id": "msH8S5onQQT_",
        "outputId": "72b4ab0f-bbbf-4924-9943-bd645cbc2263"
      },
      "source": [
        "print(confusion_matrix(y_test, y_preds))"
      ],
      "execution_count": null,
      "outputs": [
        {
          "output_type": "stream",
          "text": [
            "[[19  3]\n",
            " [ 4 26]]\n"
          ],
          "name": "stdout"
        }
      ]
    },
    {
      "cell_type": "markdown",
      "metadata": {
        "id": "hXz-RSp0WLJ4"
      },
      "source": [
        "## **Kesimpulan**"
      ]
    },
    {
      "cell_type": "markdown",
      "metadata": {
        "id": "N5pN_JfPWPr-"
      },
      "source": [
        "Model yang dibangun menggunakan multinomial naive bayes cukup baik karena menghasilkan akurasi sebesar 86,53%. Akurasi model dapat ditingkatkan dengan menambahkan data dan memperbaiki preprocessing text. Preprocessing text sangat penting dilakukan, apalagi dengan menganalisa data, apa saja preprocessing yang dibutuhkan apa yang harus ditambahkan atau dikurangi agar menghasilkan vektor yang baik dan model yang baik juga."
      ]
    },
    {
      "cell_type": "markdown",
      "metadata": {
        "id": "RMisBvotW1_S"
      },
      "source": [
        "references :\n",
        "*   Modul 7 text mining - DTI 2020\n",
        "*   https://github.com/ialfina/id-hatespeech-detection\n",
        "\n"
      ]
    }
  ]
}